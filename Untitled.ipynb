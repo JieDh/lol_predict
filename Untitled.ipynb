{
 "cells": [
  {
   "cell_type": "code",
   "execution_count": 4,
   "metadata": {},
   "outputs": [],
   "source": [
    "import requests\n",
    "import pandas as pd\n",
    "import time"
   ]
  },
  {
   "cell_type": "code",
   "execution_count": null,
   "metadata": {},
   "outputs": [],
   "source": []
  },
  {
   "cell_type": "code",
   "execution_count": 1,
   "metadata": {},
   "outputs": [],
   "source": [
    "#Global var\n",
    "summoner_id = \"https://euw1.api.riotgames.com/lol/summoner/v4/summoners/\"\n",
    "key = 'RGAPI-da507aaf-fbf8-4e1e-a391-d3af6114463a'\n",
    "\n",
    "def request(name):\n",
    "    time.sleep(1)\n",
    "    print(\"Request Done\")\n",
    "    URL = \"{}by-name/{}?api_key={}\".format(summoner_id,name,key)\n",
    "    response = requests.get(URL)\n",
    "    return response.json()\n"
   ]
  },
  {
   "cell_type": "code",
   "execution_count": 2,
   "metadata": {},
   "outputs": [],
   "source": [
    "players_list = ['Jeskla', 'promisq', 'WhiteKnight', 'Zanzarah', 'MagiFelix', 'Nukeduck', 'Czekolad', 'Dan', 'Kryze', 'Patrik', 'Johannes KIæbo', '100 Abbedagge', \n",
    "                'BrokenBlade', 'Gilius', 'LIMIT', 'Neon', 'Bwipo', 'Hilyssang', 'Nisqy', 'Upset', 'Selfmade', 'NoWoWFreeWin', 'Jankos', 'Caps', 'Rekkles', 'Mikyx', \n",
    "               'Armut', 'Carzzy', 'Elyoya', 'Humanoid', 'Kaiser', 'HiRit', 'Kobee', 'Razork', 'Vander', 'Vetheo', 'Hans Sama', 'Inspired', 'Larssen', 'Odoamne',\n",
    "               'Trymbi', 'Blue', 'Liantiao Jenax', 'Jezu', 'Treatz', 'TynX', 'Labrov', 'Milicaaaa', 'Skeanz', 'Szygenda', 'Crownshot', 'Comp']"
   ]
  },
  {
   "cell_type": "code",
   "execution_count": null,
   "metadata": {},
   "outputs": [],
   "source": [
    "players = []\n",
    "for x in players_list:\n",
    "    time.sleep(1)\n",
    "    try:\n",
    "        raw = request(x)\n",
    "        player_id = (raw['id'])\n",
    "        account_id = (raw['accountId'])\n",
    "        puuid = (raw['puuid'])\n",
    "    except:\n",
    "        pass\n",
    "    player_list = {'name': x,\n",
    "                   'id': player_id,\n",
    "                  'account ID': account_id,\n",
    "                  'puuid': puuid}\n",
    "    players.append(player_list)"
   ]
  },
  {
   "cell_type": "code",
   "execution_count": 8,
   "metadata": {},
   "outputs": [],
   "source": [
    "players_df = pd.DataFrame(players)"
   ]
  },
  {
   "cell_type": "code",
   "execution_count": 10,
   "metadata": {},
   "outputs": [
    {
     "data": {
      "text/plain": [
       "'4H_F9a3vJ9-MBTODZE8-SttnyWyb4SmIjJGJxjbonv8g-hnP'"
      ]
     },
     "execution_count": 10,
     "metadata": {},
     "output_type": "execute_result"
    }
   ],
   "source": [
    "players_df['id'][0]"
   ]
  },
  {
   "cell_type": "code",
   "execution_count": 12,
   "metadata": {},
   "outputs": [],
   "source": [
    "players_df.to_csv('players.csv')"
   ]
  },
  {
   "cell_type": "code",
   "execution_count": null,
   "metadata": {},
   "outputs": [],
   "source": []
  },
  {
   "cell_type": "markdown",
   "metadata": {},
   "source": [
    "# Champions mastery"
   ]
  },
  {
   "cell_type": "code",
   "execution_count": 13,
   "metadata": {},
   "outputs": [],
   "source": [
    "summoners_id = list(players_df['id'])"
   ]
  },
  {
   "cell_type": "code",
   "execution_count": 15,
   "metadata": {},
   "outputs": [
    {
     "data": {
      "text/plain": [
       "'4H_F9a3vJ9-MBTODZE8-SttnyWyb4SmIjJGJxjbonv8g-hnP'"
      ]
     },
     "execution_count": 15,
     "metadata": {},
     "output_type": "execute_result"
    }
   ],
   "source": [
    "summoners_id[0]"
   ]
  },
  {
   "cell_type": "code",
   "execution_count": 16,
   "metadata": {},
   "outputs": [],
   "source": [
    "ch_mastery_link = \"https://euw1.api.riotgames.com/lol/champion-mastery/v4/champion-masteries/\"\n",
    "key = 'RGAPI-da507aaf-fbf8-4e1e-a391-d3af6114463a'\n",
    "\n",
    "def champ_mastery(summoner_id):\n",
    "    time.sleep(1)\n",
    "    print(\"Request Done\")\n",
    "    URL = \"{}by-summoner/{}?api_key={}\".format(ch_mastery_link,summoner_id,key)\n",
    "    response = requests.get(URL)\n",
    "    return response.json()"
   ]
  },
  {
   "cell_type": "code",
   "execution_count": null,
   "metadata": {},
   "outputs": [],
   "source": [
    "champs = []\n",
    "for x in summoners_id:\n",
    "    champs.append(champ_mastery(x))"
   ]
  },
  {
   "cell_type": "code",
   "execution_count": 33,
   "metadata": {},
   "outputs": [],
   "source": [
    "champion_info = []\n",
    "for i in champs:\n",
    "    for x in i:\n",
    "        summonerId = x['summonerId']\n",
    "        championId = x['championId']\n",
    "        championlevel = x['championLevel']\n",
    "        championpoints = x['championPoints']\n",
    "        info = {\n",
    "            'summonerId': summonerId,\n",
    "            'champion': championId,\n",
    "            'champion level': championlevel,\n",
    "            'champion points': championpoints\n",
    "        }\n",
    "        champion_info.append(info)"
   ]
  },
  {
   "cell_type": "code",
   "execution_count": 35,
   "metadata": {},
   "outputs": [],
   "source": [
    "ch_mastery_df = pd.DataFrame(champion_info)"
   ]
  },
  {
   "cell_type": "code",
   "execution_count": 37,
   "metadata": {},
   "outputs": [],
   "source": [
    "ch_mastery_df.to_csv('champions_mastery.csv')"
   ]
  },
  {
   "cell_type": "markdown",
   "metadata": {},
   "source": [
    "# Matches history"
   ]
  },
  {
   "cell_type": "code",
   "execution_count": null,
   "metadata": {},
   "outputs": [],
   "source": []
  },
  {
   "cell_type": "code",
   "execution_count": null,
   "metadata": {},
   "outputs": [],
   "source": [
    "#matches_url = 'by-account/Coz3xnh0cvuM1w_3RCjPOnxorcRrvR7jNJ1GGasOMbkic0c0pKjeT09S?api_key=RGAPI-6ea493ef-299e-4b4a-b242-a68b1fbb4d6d'"
   ]
  },
  {
   "cell_type": "code",
   "execution_count": 57,
   "metadata": {},
   "outputs": [],
   "source": [
    "match_url = \"https://euw1.api.riotgames.com/lol/match/v4/matchlists/\"\n",
    "key = 'RGAPI-6ea493ef-299e-4b4a-b242-a68b1fbb4d6d'\n",
    "\n",
    "def request_match(accountid):\n",
    "    time.sleep(1)\n",
    "    print(\"Request Done\")\n",
    "    URL = \"{}by-account/{}?api_key={}\".format(match_url,accountid,key)\n",
    "    response = requests.get(URL)\n",
    "    return response.json()"
   ]
  },
  {
   "cell_type": "code",
   "execution_count": 54,
   "metadata": {},
   "outputs": [],
   "source": [
    "account_ids = list(players_df['account ID'])"
   ]
  },
  {
   "cell_type": "code",
   "execution_count": 71,
   "metadata": {},
   "outputs": [
    {
     "name": "stdout",
     "output_type": "stream",
     "text": [
      "Request Done\n"
     ]
    }
   ],
   "source": [
    "ex = request_match('Coz3xnh0cvuM1w_3RCjPOnxorcRrvR7jNJ1GGasOMbkic0c0pKjeT09S')\n",
    "#nos interesa gameId, 'champion', 'role', 'lane'"
   ]
  },
  {
   "cell_type": "code",
   "execution_count": null,
   "metadata": {},
   "outputs": [],
   "source": [
    "players_df"
   ]
  },
  {
   "cell_type": "code",
   "execution_count": 229,
   "metadata": {},
   "outputs": [
    {
     "name": "stdout",
     "output_type": "stream",
     "text": [
      "Request Done\n"
     ]
    }
   ],
   "source": [
    "jeskla = pd.DataFrame(request_match('Coz3xnh0cvuM1w_3RCjPOnxorcRrvR7jNJ1GGasOMbkic0c0pKjeT09S')['matches'])\n"
   ]
  },
  {
   "cell_type": "code",
   "execution_count": 182,
   "metadata": {},
   "outputs": [],
   "source": [
    "jeskladf = pd.DataFrame(jeskla)"
   ]
  },
  {
   "cell_type": "code",
   "execution_count": 230,
   "metadata": {},
   "outputs": [],
   "source": [
    "jeskla['name'] = 'Jeskla'\n",
    "jeskla['account ID'] = 'Coz3xnh0cvuM1w_3RCjPOnxorcRrvR7jNJ1GGasOMbkic0c0pKjeT09S'"
   ]
  },
  {
   "cell_type": "code",
   "execution_count": 311,
   "metadata": {},
   "outputs": [
    {
     "name": "stdout",
     "output_type": "stream",
     "text": [
      "Request Done\n",
      "Request Done\n",
      "Request Done\n",
      "Request Done\n",
      "Request Done\n",
      "Request Done\n",
      "Request Done\n"
     ]
    }
   ],
   "source": [
    "nuckeduck = pd.DataFrame(request_match('yY2gRGb-gICRKHim9jqvMmlCXVQuSkGUIJktDjxY8C_VYQ')['matches'])\n",
    "tore = pd.DataFrame(request_match('HP51wjll4ionrrBw7g_Y89941R5EsH8vMmlm6uf2rEWG8Q')['matches'])\n",
    "abbedagge = pd.DataFrame(request_match('ApmrzD9zU61soOEy4qy4hxNMI_RRvjU1GeQcM28c0XAgew')['matches'])\n",
    "wunder = pd.DataFrame(request_match('f2Zsm52tgn0MjXu1cNkpY7Zf34bIOa90tIm-YanjaUZnZw')['matches'])\n",
    "inspired = pd.DataFrame(request_match('6FnOBiuXL5qsxLqriDWCAS6K6gn5WkKauQvP3GlLL09ZQ2U')['matches'])\n",
    "jenax = pd.DataFrame(request_match('g6waCr1OfGHdCOQtWulH1zPJzhuQvo3680RV_p3qLZvpYw')['matches'])\n",
    "milica = pd.DataFrame(request_match('JM78PN-V3NeVvWsIzLEhC1cH0wYa1SsmzQRxL0wNGyDkQg')['matches'])"
   ]
  },
  {
   "cell_type": "code",
   "execution_count": 192,
   "metadata": {},
   "outputs": [
    {
     "name": "stdout",
     "output_type": "stream",
     "text": [
      "Request Done\n",
      "Request Done\n",
      "Request Done\n",
      "Request Done\n"
     ]
    }
   ],
   "source": [
    "promisq = pd.DataFrame(request_match('GwrgFEZCIZsoOyaJIkDytATxtVrJC0HPv-7z1YjU27FXYj0')['matches'])\n",
    "whiteknight = pd.DataFrame(request_match('GbOI_GQcCaRONjQMqn1ys3qdswr4aOsadHx0mN4amm4HTQ')['matches'])\n",
    "zanzarah = pd.DataFrame(request_match('cluEmtgY32dNiyCP0NOV12ss2-YJd0fEqLxpqsFtm_UIK24')['matches'])\n",
    "magifelix = pd.DataFrame(request_match('hoSgSXRRjdazugoZMyk4x_wePBqKgUqpzV6BHo68aWAmqjk')['matches'])"
   ]
  },
  {
   "cell_type": "code",
   "execution_count": 318,
   "metadata": {},
   "outputs": [],
   "source": [
    "milica['name'] = 'Milica'\n",
    "milica['account ID'] = 'JM78PN-V3NeVvWsIzLEhC1cH0wYa1SsmzQRxL0wNGyDkQg'"
   ]
  },
  {
   "cell_type": "code",
   "execution_count": 216,
   "metadata": {},
   "outputs": [],
   "source": [
    "patrik['name'] = 'Patrik'\n",
    "patrik['account ID'] = '_rPkiIPMuh_wLi3j8kGL08Q0fdYbv8hD_9X3rfMNUO1EiqY'"
   ]
  },
  {
   "cell_type": "code",
   "execution_count": 207,
   "metadata": {},
   "outputs": [
    {
     "name": "stdout",
     "output_type": "stream",
     "text": [
      "Request Done\n",
      "Request Done\n",
      "Request Done\n",
      "Request Done\n"
     ]
    }
   ],
   "source": [
    "czekolad = pd.DataFrame(request_match('qxn4H8Fei2OEqCV23Gp50gEOvGo4A2WJzorDElIv9x_n4-dgcH8CTSQ7')['matches'])\n",
    "dan = pd.DataFrame(request_match('rV3nvIPRli5XTBwRfMMhvWMZbZ-JdXrfoF061igWpgtwdf0')['matches']\n",
    "kryze = pd.DataFrame(request_match('5lcC2_LF0rE1VEf4WRMUL8YUPMvdN9G82G56RKleyRvRGL8')['matches'])\n",
    "patrik = pd.DataFrame(request_match('_rPkiIPMuh_wLi3j8kGL08Q0fdYbv8hD_9X3rfMNUO1EiqY')['matches'])"
   ]
  },
  {
   "cell_type": "code",
   "execution_count": 217,
   "metadata": {},
   "outputs": [
    {
     "name": "stdout",
     "output_type": "stream",
     "text": [
      "Request Done\n",
      "Request Done\n",
      "Request Done\n",
      "Request Done\n"
     ]
    }
   ],
   "source": [
    "brokenBlade = pd.DataFrame(request_match('vQGn-20BiEfAXV3FOP0fu8GO32rZIgV3BOdMgD-p_npKfQ')['matches'])\n",
    "gilius = pd.DataFrame(request_match('2y578KCoINJisbXxmWXxIgemgZLFQ4uC5INMh34RjypuHgbOgtaOpqby')['matches'])\n",
    "limit = pd.DataFrame(request_match('m8ixfwWc2wINLgJsAxfV59zdvrYydmAPo5MS-aj6HMGSA1g')['matches'])\n",
    "neon = pd.DataFrame(request_match('uz5ZcJ_wKe3A1XKa9cLsvLQnHGg8l4PG4YURcjcUj6J_Qw')['matches'])"
   ]
  },
  {
   "cell_type": "code",
   "execution_count": 251,
   "metadata": {},
   "outputs": [],
   "source": []
  },
  {
   "cell_type": "code",
   "execution_count": 233,
   "metadata": {},
   "outputs": [
    {
     "name": "stdout",
     "output_type": "stream",
     "text": [
      "Request Done\n",
      "Request Done\n",
      "Request Done\n",
      "Request Done\n",
      "Request Done\n"
     ]
    }
   ],
   "source": [
    "bwipo = pd.DataFrame(request_match('iEIBVpekh8yG9eu1JpIqQs9nohS3ov2nHU5hsF75zPSZ6Q')['matches'])\n",
    "hylissang = pd.DataFrame(request_match('J5QuOoLbpQcMX_yO24v_g0zVh7w0pRDoplt8iTVltKt72NU')['matches'])\n",
    "nisqy = pd.DataFrame(request_match('ArUebBcAipoo0jzCo8oDokUx8yGXLlhQdqrjeOL01JdHFpdcFHYxnesH')['matches'])\n",
    "upset = pd.DataFrame(request_match('xOcC-Ch405Ajjv_jJJZsOkF1FKKJXKMrWRyi2TgvVxtcY0I')['matches'])\n",
    "selfmade = pd.DataFrame(request_match('hlT6IfXueADnh1FW5DhJByLT3SF3i6ySxftP_G7N-U0fXg')['matches'])"
   ]
  },
  {
   "cell_type": "code",
   "execution_count": 247,
   "metadata": {},
   "outputs": [
    {
     "name": "stdout",
     "output_type": "stream",
     "text": [
      "Request Done\n",
      "Request Done\n",
      "Request Done\n",
      "Request Done\n"
     ]
    }
   ],
   "source": [
    "jankos = pd.DataFrame(request_match('QkkRqdHyg5b1g_CaUJTUyRZSJWd5mclc1DX4XG6Lc9BHA5k')['matches'])\n",
    "caps = pd.DataFrame(request_match('if8wXjjTtlgRu16KtTWO7K0JvIeM-Gp28r1zxKbljmAyhBxuEhF8FFf0')['matches'])\n",
    "rekkles = pd.DataFrame(request_match('kATW08iCMSLDrxgQPHv1FKBOqGmtnJY_TyjNr8rhL40vgak')['matches'])\n",
    "mikyx = pd.DataFrame(request_match('A0i7zsy0KXsmX98bAICC2x7aBHiyL0fqQYH7Bba3uoiNsog')['matches'])"
   ]
  },
  {
   "cell_type": "code",
   "execution_count": 255,
   "metadata": {},
   "outputs": [
    {
     "name": "stdout",
     "output_type": "stream",
     "text": [
      "Request Done\n",
      "Request Done\n",
      "Request Done\n",
      "Request Done\n",
      "Request Done\n"
     ]
    }
   ],
   "source": [
    "# MADLIONS\n",
    "armut = pd.DataFrame(request_match('JyrhAFSwqle0IqjbZe6A9Au5eTvgZeC1I4T3fy-BczdyTIVCTsH7yvxO')['matches'])\n",
    "carzzy =  pd.DataFrame(request_match('pAUgu-SezFBdCxxbTRjoorgNrQFqEnmKG2HgCtzqoq5wbZLnByppiIo3')['matches'])\n",
    "elyoya = pd.DataFrame(request_match('qBxTQPj4BDC4JlYHMQ2kHn41oabOiVKTgUY8quL-6jynroc2_DRuP1S0')['matches'])\n",
    "humanoid = pd.DataFrame(request_match('Z8FsTnwdulnxxcNqJWsLpfFIUPuJT7yJ0qsS3jWBMP1-LH3NqaOJg2Sr')['matches'])\n",
    "kaiser = pd.DataFrame(request_match('itX8TXW7NR-_xDhn6v_b4MAjr8HE5DbIfxDfsArltz53SCGldJkhyanz')['matches'])"
   ]
  },
  {
   "cell_type": "code",
   "execution_count": 279,
   "metadata": {},
   "outputs": [],
   "source": [
    "trymbi['name'] ='Trymbi'\n",
    "trymbi['account ID'] = 'ZZKkBReLUPh2E6AEKL6thh-Mo8NDott7OCyCGo2oCVbH9h1HHRt9rnDJ'"
   ]
  },
  {
   "cell_type": "code",
   "execution_count": 267,
   "metadata": {},
   "outputs": [
    {
     "name": "stdout",
     "output_type": "stream",
     "text": [
      "Request Done\n",
      "Request Done\n",
      "Request Done\n",
      "Request Done\n",
      "Request Done\n"
     ]
    }
   ],
   "source": [
    "hirit = pd.DataFrame(request_match('oXx8yotit181eWgsAP-6t0Hxq-LtW_iaGhwKbUGuM_FDfHTA02CS2gYt')['matches'])\n",
    "kobee = pd.DataFrame(request_match('o8pO2KZo2ENHnZ8O0jJVy1E3cdO9ACJvv26G1--5aGk3Ew')['matches'])\n",
    "razork = pd.DataFrame(request_match('lSXSXYijmFDITQU0oq7Tp3is1sAfIy4DVGfQnTAa0kqF7A')['matches'])\n",
    "vander = pd.DataFrame(request_match('I5QPDD0Ac2KVQZ0LwAILB84IGrtL_PferGaYf7mRff7LlmQ')['matches'])\n",
    "vetheo = pd.DataFrame(request_match('VNsTIb0UybmEyVeG_gwuE0wZfVM4RQWYSPrgnCpXKWXAfGM')['matches'])"
   ]
  },
  {
   "cell_type": "code",
   "execution_count": 275,
   "metadata": {},
   "outputs": [
    {
     "name": "stdout",
     "output_type": "stream",
     "text": [
      "Request Done\n",
      "Request Done\n",
      "Request Done\n",
      "Request Done\n"
     ]
    }
   ],
   "source": [
    "#ROGUE\n",
    "hanssama = pd.DataFrame(request_match('BqSewgzIhgPKWrJvpE_7OIcG0J4Um_h2v1g_aQqWm31yswA')['matches'])\n",
    "larssen = pd.DataFrame(request_match('BFaFzgl8RUP88n4D2kaxuU2-jYaPvlUh7FfJpAA6tILXkgorJ08WW5yG')['matches'])\n",
    "odoamne = pd.DataFrame(request_match('8YZ9R3-UfELSJuez0o0PglZEgaXCsKwtBW0L-4Oa575jeg')['matches'])\n",
    "trymbi = pd.DataFrame(request_match('ZZKkBReLUPh2E6AEKL6thh-Mo8NDott7OCyCGo2oCVbH9h1HHRt9rnDJ')['matches'])"
   ]
  },
  {
   "cell_type": "code",
   "execution_count": 289,
   "metadata": {},
   "outputs": [],
   "source": []
  },
  {
   "cell_type": "code",
   "execution_count": 293,
   "metadata": {},
   "outputs": [
    {
     "name": "stdout",
     "output_type": "stream",
     "text": [
      "Request Done\n",
      "Request Done\n",
      "Request Done\n",
      "Request Done\n",
      "Request Done\n"
     ]
    }
   ],
   "source": [
    "blue = pd.DataFrame(request_match('WdbZsdSquKx2U-56U9qGUZrl-T5jgM0KU_kzyQ1elUIdhw')['matches'])\n",
    "jezu = pd.DataFrame(request_match('XjWwMszxRT2uqbWTuOWYmalbs4u0ZHCeUxh2oMWZuLFhQuVPMBVgLMx7')['matches'])\n",
    "treatz = pd.DataFrame(request_match('-uXNbMGMC5npsYxbODsernbiMimOJpYp-Werv9hSJFA9Cdc')['matches'])\n",
    "tynX = pd.DataFrame(request_match('dNPdgyOsx3a_R_2trr4RKK7s6qguf6xWxAU6cknVZc53BPs')['matches'])\n",
    "labrov = pd.DataFrame(request_match('cEM2T3R6vP1kLhftKLNY4M7eHJMlqEaqdAtMuJNLjilVG6cKrBNuoKvK')['matches'])"
   ]
  },
  {
   "cell_type": "code",
   "execution_count": 306,
   "metadata": {},
   "outputs": [],
   "source": [
    "comp['name'] ='Comp'\n",
    "comp['account ID'] = 'jCbaHgV3IsDif0vwIw5JxfYXiHQM4jCeKJDUPlrzUhIU6w'"
   ]
  },
  {
   "cell_type": "code",
   "execution_count": 301,
   "metadata": {},
   "outputs": [
    {
     "name": "stdout",
     "output_type": "stream",
     "text": [
      "Request Done\n",
      "Request Done\n",
      "Request Done\n",
      "Request Done\n"
     ]
    }
   ],
   "source": [
    "skeanz = pd.DataFrame(request_match('GesUDxnhURrab36C1tURYXtDpHOL9BuPLUmyjCJwA4CFh6rqY4gM2I7j')['matches'])\n",
    "szygenda = pd.DataFrame(request_match('bYX8erDYt7TSD1IpsKzSaSqrUofAONxyb0aWRs6K6jwtG7I')['matches'])\n",
    "crownshot = pd.DataFrame(request_match('3HY5TBIvhGF_eTkX5OivENBncohaTu6AyRCoo3BBZFT-yIKbAq4q9dtE')['matches'])\n",
    "comp = pd.DataFrame(request_match('jCbaHgV3IsDif0vwIw5JxfYXiHQM4jCeKJDUPlrzUhIU6w')['matches'])"
   ]
  },
  {
   "cell_type": "code",
   "execution_count": 320,
   "metadata": {},
   "outputs": [],
   "source": [
    "players_list = ['jeskla', 'promisq', 'WhiteKnight', 'Zanzarah', 'MagiFelix', 'Nuckeduck', 'Czekolad', 'Dan', 'Kryze', 'Patrik', 'Tore', 'Abbedagge', \n",
    "                'BrokenBlade', 'Gilius', 'LIMIT', 'Neon', 'Bwipo', 'Hilyssang', 'Nisqy', 'Upset', 'Selfmade', 'Wunder', 'Jankos', 'Caps', 'Rekkles', 'Mikyx', \n",
    "               'Armut', 'Carzzy', 'Elyoya', 'Humanoid', 'Kaiser', 'HiRit', 'Kobee', 'Razork', 'Vander', 'Vetheo', 'Hans Sama', 'Inspired', 'Larssen', 'Odoamne',\n",
    "               'Trymbi', 'Blue', 'Jenax', 'Jezu', 'Treatz', 'TynX', 'Labrov', 'Milica', 'Skeanz', 'Szygenda', 'Crownshot', 'Comp']\n",
    "pl_game_df = pd.concat([jeskla, promisq, whiteknight, zanzarah, magifelix, nuckeduck, czekolad, dan, kryze, patrik, tore, abbedagge, brokenBlade, \n",
    "                       gilius, limit, neon, bwipo, hylissang, nisqy, upset, selfmade, wunder, jankos, caps, rekkles, mikyx, armut, carzzy, elyoya,\n",
    "                       humanoid, kaiser, hirit, kobee, razork, vander, vetheo, hanssama, inspired, larssen, odoamne, trymbi, blue, jenax, jezu,\n",
    "                       treatz, tynX, labrov, milica, skeanz, szygenda, crownshot, comp], ignore_index=True)"
   ]
  },
  {
   "cell_type": "code",
   "execution_count": 405,
   "metadata": {},
   "outputs": [],
   "source": [
    "pl_game_df.to_csv('games.csv')"
   ]
  },
  {
   "cell_type": "code",
   "execution_count": null,
   "metadata": {},
   "outputs": [],
   "source": []
  },
  {
   "cell_type": "code",
   "execution_count": 485,
   "metadata": {},
   "outputs": [],
   "source": [
    "not_classic = pl_game_df[pl_game_df['lane'] != 'NONE']"
   ]
  },
  {
   "cell_type": "code",
   "execution_count": 512,
   "metadata": {},
   "outputs": [
    {
     "data": {
      "text/plain": [
       "3566"
      ]
     },
     "execution_count": 512,
     "metadata": {},
     "output_type": "execute_result"
    }
   ],
   "source": [
    "len(not_classic['gameId'].unique())"
   ]
  },
  {
   "cell_type": "code",
   "execution_count": 504,
   "metadata": {},
   "outputs": [],
   "source": [
    "not_classic.to_csv('normal_games.csv')"
   ]
  },
  {
   "cell_type": "markdown",
   "metadata": {},
   "source": [
    "# OBTENER RESULTADO DE CADA PARTIDA (matchID)"
   ]
  },
  {
   "cell_type": "code",
   "execution_count": 4,
   "metadata": {},
   "outputs": [],
   "source": [
    "normal_df = pd.read_csv('normal_games.csv')"
   ]
  },
  {
   "cell_type": "code",
   "execution_count": 5,
   "metadata": {},
   "outputs": [],
   "source": [
    "games = list(normal_df['gameId'].unique())"
   ]
  },
  {
   "cell_type": "code",
   "execution_count": 7,
   "metadata": {},
   "outputs": [
    {
     "data": {
      "text/plain": [
       "3566"
      ]
     },
     "execution_count": 7,
     "metadata": {},
     "output_type": "execute_result"
    }
   ],
   "source": [
    "len(games)"
   ]
  },
  {
   "cell_type": "markdown",
   "metadata": {},
   "source": [
    "with open(\"match.txt\", \"w\") as output:\n",
    "    output.write(str(matches))"
   ]
  },
  {
   "cell_type": "code",
   "execution_count": 12,
   "metadata": {},
   "outputs": [],
   "source": [
    "matchid_url = 'https://euw1.api.riotgames.com/lol/match/v4/matches/'\n",
    "key = 'RGAPI-da507aaf-fbf8-4e1e-a391-d3af6114463a'\n",
    "def rmatches(games):\n",
    "    time.sleep(1)\n",
    "    print(\"Request Done\")\n",
    "    URL = \"{}{}?api_key={}\".format(matchid_url,games,key)\n",
    "    response = requests.get(URL)\n",
    "    return response.json()"
   ]
  },
  {
   "cell_type": "code",
   "execution_count": 8,
   "metadata": {},
   "outputs": [],
   "source": [
    "matches = []\n",
    "for x in games[0:3]:\n",
    "    time.sleep(1)\n",
    "    resultados = rmatches(x)\n",
    "    matches.append(resultados)"
   ]
  },
  {
   "cell_type": "code",
   "execution_count": 19,
   "metadata": {},
   "outputs": [
    {
     "name": "stdout",
     "output_type": "stream",
     "text": [
      "Request Done\n",
      "Request Done\n",
      "Request Done\n"
     ]
    }
   ],
   "source": [
    "\n",
    "    for i in matches:\n",
    "        blue_side = (i['participants'][0:5])\n",
    "        red_side = (i['participants'][5:10])\n",
    "        teams = []\n",
    "        for j in range(len(blue_side)):\n",
    "            participant_id = blue_side[j]['participantId']\n",
    "            champion_id = blue_side[j]['championId']\n",
    "            team = 'blue'\n",
    "            info = {\n",
    "                'participant id': participant_id,\n",
    "                'champion id': champion_id,\n",
    "                'team': team\n",
    "                }\n",
    "        teams.append(info)\n",
    "        for k in range(len(red_side)):\n",
    "            participant_id = red_side[k]['participantId']\n",
    "            champion_id = red_side[k]['championId']\n",
    "            team = 'red'\n",
    "            info = {\n",
    "                'participant id': participant_id,\n",
    "                'champion id': champion_id,\n",
    "                'team': team\n",
    "                }\n",
    "            teams.append(info)\n",
    "        summoner_name = []\n",
    "        for l in range(len(resultados['participantIdentities'])):\n",
    "            summoner = resultados['participantIdentities'][l]['player']['summonerName']\n",
    "            summoner_name.append(summoner)"
   ]
  },
  {
   "cell_type": "code",
   "execution_count": 21,
   "metadata": {},
   "outputs": [
    {
     "data": {
      "text/plain": [
       "[{'participant id': 5, 'champion id': 25, 'team': 'blue'},\n",
       " {'participant id': 10, 'champion id': 99, 'team': 'red'}]"
      ]
     },
     "execution_count": 21,
     "metadata": {},
     "output_type": "execute_result"
    }
   ],
   "source": [
    "teams"
   ]
  },
  {
   "cell_type": "code",
   "execution_count": null,
   "metadata": {},
   "outputs": [],
   "source": [
    "for x in matches:\n",
    "    blue_side = (x['participants'][0:5])\n",
    "    red_side = (x['participants'][5:10])\n",
    "    teams = []\n",
    "    for x in range(len(blue_side)):\n",
    "        participant_id = blue_side[x]['participantId']\n",
    "        champion_id = blue_side[x]['championId']\n",
    "        team = 'blue'\n",
    "        info = {\n",
    "            'participant id': participant_id,\n",
    "            'champion id': champion_id,\n",
    "            'team': team\n",
    "        }\n",
    "        teams.append(info)\n",
    "    for i in range(len(red_side)):\n",
    "        participant_id = red_side[i]['participantId']\n",
    "        champion_id = red_side[i]['championId']\n",
    "        team = 'red'\n",
    "        info = {\n",
    "            'participant id': participant_id,\n",
    "            'champion id': champion_id,\n",
    "            'team': team\n",
    "        }\n",
    "        teams.append(info)\n",
    "    summoner_name = []\n",
    "    for i in range(len(resultados['participantIdentities'])):\n",
    "        summoner = resultados['participantIdentities'][i]['player']['summonerName']\n",
    "        summoner_name.append(summoner)"
   ]
  },
  {
   "cell_type": "code",
   "execution_count": null,
   "metadata": {},
   "outputs": [],
   "source": []
  },
  {
   "cell_type": "markdown",
   "metadata": {},
   "source": [
    "resultados"
   ]
  },
  {
   "cell_type": "code",
   "execution_count": null,
   "metadata": {},
   "outputs": [],
   "source": []
  },
  {
   "cell_type": "code",
   "execution_count": null,
   "metadata": {},
   "outputs": [],
   "source": []
  },
  {
   "cell_type": "markdown",
   "metadata": {},
   "source": [
    "# Datos individuales de los partidos"
   ]
  },
  {
   "cell_type": "code",
   "execution_count": 422,
   "metadata": {},
   "outputs": [],
   "source": [
    "blue_side = (resultados['participants'][0:5])\n",
    "red_side = (resultados['participants'][5:10])"
   ]
  },
  {
   "cell_type": "code",
   "execution_count": 460,
   "metadata": {},
   "outputs": [],
   "source": [
    "teams = []\n",
    "for x in range(len(blue_side)):\n",
    "    participant_id = blue_side[x]['participantId']\n",
    "    champion_id = blue_side[x]['championId']\n",
    "    team = 'blue'\n",
    "    info = {\n",
    "        'participant id': participant_id,\n",
    "        'champion id': champion_id,\n",
    "        'team': team\n",
    "    }\n",
    "    teams.append(info)\n",
    "for i in range(len(red_side)):\n",
    "    participant_id = red_side[i]['participantId']\n",
    "    champion_id = red_side[i]['championId']\n",
    "    team = 'red'\n",
    "    info = {\n",
    "        'participant id': participant_id,\n",
    "        'champion id': champion_id,\n",
    "        'team': team\n",
    "    }\n",
    "    teams.append(info)"
   ]
  },
  {
   "cell_type": "code",
   "execution_count": 471,
   "metadata": {},
   "outputs": [],
   "source": [
    "summoner_name = []\n",
    "for i in range(len(resultados['participantIdentities'])):\n",
    "    summoner = resultados['participantIdentities'][i]['player']['summonerName']\n",
    "    summoner_name.append(summoner)"
   ]
  },
  {
   "cell_type": "code",
   "execution_count": null,
   "metadata": {},
   "outputs": [],
   "source": []
  },
  {
   "cell_type": "code",
   "execution_count": null,
   "metadata": {},
   "outputs": [],
   "source": []
  },
  {
   "cell_type": "code",
   "execution_count": 475,
   "metadata": {},
   "outputs": [],
   "source": [
    "\n",
    "matches = pd.DataFrame(teams)\n",
    "matches['players'] = summoner_name\n",
    "matches['game_id'] = (resultados['gameId'])\n",
    "matches['gameduration'] = (resultados['gameDuration'])\n",
    "matches['gamemode'] = (resultados['gameMode'])\n",
    "matches['blue'] = (resultados['teams'][0]['win'])\n",
    "matches['red'] = (resultados['teams'][1]['win'])"
   ]
  },
  {
   "cell_type": "code",
   "execution_count": 479,
   "metadata": {},
   "outputs": [
    {
     "data": {
      "text/html": [
       "<div>\n",
       "<style scoped>\n",
       "    .dataframe tbody tr th:only-of-type {\n",
       "        vertical-align: middle;\n",
       "    }\n",
       "\n",
       "    .dataframe tbody tr th {\n",
       "        vertical-align: top;\n",
       "    }\n",
       "\n",
       "    .dataframe thead th {\n",
       "        text-align: right;\n",
       "    }\n",
       "</style>\n",
       "<table border=\"1\" class=\"dataframe\">\n",
       "  <thead>\n",
       "    <tr style=\"text-align: right;\">\n",
       "      <th></th>\n",
       "      <th>participant id</th>\n",
       "      <th>champion id</th>\n",
       "      <th>team</th>\n",
       "      <th>players</th>\n",
       "      <th>game_id</th>\n",
       "      <th>gameduration</th>\n",
       "      <th>gamemode</th>\n",
       "      <th>blue</th>\n",
       "      <th>red</th>\n",
       "    </tr>\n",
       "  </thead>\n",
       "  <tbody>\n",
       "    <tr>\n",
       "      <th>0</th>\n",
       "      <td>1</td>\n",
       "      <td>17</td>\n",
       "      <td>blue</td>\n",
       "      <td>IstPickTeemo</td>\n",
       "      <td>4842099510</td>\n",
       "      <td>1342</td>\n",
       "      <td>CLASSIC</td>\n",
       "      <td>Fail</td>\n",
       "      <td>Win</td>\n",
       "    </tr>\n",
       "    <tr>\n",
       "      <th>1</th>\n",
       "      <td>2</td>\n",
       "      <td>245</td>\n",
       "      <td>blue</td>\n",
       "      <td>aEsWmAudrey</td>\n",
       "      <td>4842099510</td>\n",
       "      <td>1342</td>\n",
       "      <td>CLASSIC</td>\n",
       "      <td>Fail</td>\n",
       "      <td>Win</td>\n",
       "    </tr>\n",
       "    <tr>\n",
       "      <th>2</th>\n",
       "      <td>3</td>\n",
       "      <td>55</td>\n",
       "      <td>blue</td>\n",
       "      <td>Mrs Katrina</td>\n",
       "      <td>4842099510</td>\n",
       "      <td>1342</td>\n",
       "      <td>CLASSIC</td>\n",
       "      <td>Fail</td>\n",
       "      <td>Win</td>\n",
       "    </tr>\n",
       "    <tr>\n",
       "      <th>3</th>\n",
       "      <td>4</td>\n",
       "      <td>111</td>\n",
       "      <td>blue</td>\n",
       "      <td>6 x A</td>\n",
       "      <td>4842099510</td>\n",
       "      <td>1342</td>\n",
       "      <td>CLASSIC</td>\n",
       "      <td>Fail</td>\n",
       "      <td>Win</td>\n",
       "    </tr>\n",
       "    <tr>\n",
       "      <th>4</th>\n",
       "      <td>5</td>\n",
       "      <td>114</td>\n",
       "      <td>blue</td>\n",
       "      <td>L2PYasuoL2P</td>\n",
       "      <td>4842099510</td>\n",
       "      <td>1342</td>\n",
       "      <td>CLASSIC</td>\n",
       "      <td>Fail</td>\n",
       "      <td>Win</td>\n",
       "    </tr>\n",
       "    <tr>\n",
       "      <th>5</th>\n",
       "      <td>6</td>\n",
       "      <td>81</td>\n",
       "      <td>red</td>\n",
       "      <td>TheFifthOne342</td>\n",
       "      <td>4842099510</td>\n",
       "      <td>1342</td>\n",
       "      <td>CLASSIC</td>\n",
       "      <td>Fail</td>\n",
       "      <td>Win</td>\n",
       "    </tr>\n",
       "    <tr>\n",
       "      <th>6</th>\n",
       "      <td>7</td>\n",
       "      <td>157</td>\n",
       "      <td>red</td>\n",
       "      <td>4nz22</td>\n",
       "      <td>4842099510</td>\n",
       "      <td>1342</td>\n",
       "      <td>CLASSIC</td>\n",
       "      <td>Fail</td>\n",
       "      <td>Win</td>\n",
       "    </tr>\n",
       "    <tr>\n",
       "      <th>7</th>\n",
       "      <td>8</td>\n",
       "      <td>555</td>\n",
       "      <td>red</td>\n",
       "      <td>El buen Karma</td>\n",
       "      <td>4842099510</td>\n",
       "      <td>1342</td>\n",
       "      <td>CLASSIC</td>\n",
       "      <td>Fail</td>\n",
       "      <td>Win</td>\n",
       "    </tr>\n",
       "    <tr>\n",
       "      <th>8</th>\n",
       "      <td>9</td>\n",
       "      <td>64</td>\n",
       "      <td>red</td>\n",
       "      <td>Jeskla</td>\n",
       "      <td>4842099510</td>\n",
       "      <td>1342</td>\n",
       "      <td>CLASSIC</td>\n",
       "      <td>Fail</td>\n",
       "      <td>Win</td>\n",
       "    </tr>\n",
       "    <tr>\n",
       "      <th>9</th>\n",
       "      <td>10</td>\n",
       "      <td>82</td>\n",
       "      <td>red</td>\n",
       "      <td>Une Jolie Tueuse</td>\n",
       "      <td>4842099510</td>\n",
       "      <td>1342</td>\n",
       "      <td>CLASSIC</td>\n",
       "      <td>Fail</td>\n",
       "      <td>Win</td>\n",
       "    </tr>\n",
       "  </tbody>\n",
       "</table>\n",
       "</div>"
      ],
      "text/plain": [
       "   participant id  champion id  team           players     game_id  \\\n",
       "0               1           17  blue      IstPickTeemo  4842099510   \n",
       "1               2          245  blue       aEsWmAudrey  4842099510   \n",
       "2               3           55  blue       Mrs Katrina  4842099510   \n",
       "3               4          111  blue             6 x A  4842099510   \n",
       "4               5          114  blue       L2PYasuoL2P  4842099510   \n",
       "5               6           81   red    TheFifthOne342  4842099510   \n",
       "6               7          157   red             4nz22  4842099510   \n",
       "7               8          555   red     El buen Karma  4842099510   \n",
       "8               9           64   red            Jeskla  4842099510   \n",
       "9              10           82   red  Une Jolie Tueuse  4842099510   \n",
       "\n",
       "   gameduration gamemode  blue  red  \n",
       "0          1342  CLASSIC  Fail  Win  \n",
       "1          1342  CLASSIC  Fail  Win  \n",
       "2          1342  CLASSIC  Fail  Win  \n",
       "3          1342  CLASSIC  Fail  Win  \n",
       "4          1342  CLASSIC  Fail  Win  \n",
       "5          1342  CLASSIC  Fail  Win  \n",
       "6          1342  CLASSIC  Fail  Win  \n",
       "7          1342  CLASSIC  Fail  Win  \n",
       "8          1342  CLASSIC  Fail  Win  \n",
       "9          1342  CLASSIC  Fail  Win  "
      ]
     },
     "execution_count": 479,
     "metadata": {},
     "output_type": "execute_result"
    }
   ],
   "source": [
    "matches"
   ]
  },
  {
   "cell_type": "code",
   "execution_count": 478,
   "metadata": {},
   "outputs": [],
   "source": []
  },
  {
   "cell_type": "code",
   "execution_count": null,
   "metadata": {},
   "outputs": [],
   "source": []
  }
 ],
 "metadata": {
  "kernelspec": {
   "display_name": "Python [conda env:ironhack_env]",
   "language": "python",
   "name": "conda-env-ironhack_env-py"
  },
  "language_info": {
   "codemirror_mode": {
    "name": "ipython",
    "version": 3
   },
   "file_extension": ".py",
   "mimetype": "text/x-python",
   "name": "python",
   "nbconvert_exporter": "python",
   "pygments_lexer": "ipython3",
   "version": "3.8.5"
  }
 },
 "nbformat": 4,
 "nbformat_minor": 4
}
